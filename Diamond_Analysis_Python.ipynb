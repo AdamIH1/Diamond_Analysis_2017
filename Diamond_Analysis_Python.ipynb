{
 "cells": [
  {
   "cell_type": "markdown",
   "metadata": {},
   "source": [
    "# Diamonds Analysis"
   ]
  },
  {
   "cell_type": "markdown",
   "metadata": {},
   "source": [
    "## Background and Motivation"
   ]
  },
  {
   "cell_type": "markdown",
   "metadata": {},
   "source": [
    "There is a large amount of information about diamonds and many of there characteristics. Data sets usually have data about diamonds carat, cut, color, clarity, and price. The diamond data set from Kaggle also in clued an x, y, and z coordinate allowing for the calculation of a diamond volume. The data set from Kaggle was large with over 50,000 different diamonds varying in cut, carat, color, clarity, and price. This data set sparked interesting in what certain diamond characters affect other characters. In this project, I will be analyzing a data set of diamond to determine what characteristics affect the price the most, how each characteristic correlates with price. I also have a goal to great a function that will predict the price of a diamond given certain characteristics using regression. Regression analysis is a calculation taking known values to predict values. Regression equations are usually set up in the for y=beta0 + beta1*x + beta2*x...betan*x. "
   ]
  },
  {
   "cell_type": "markdown",
   "metadata": {},
   "source": [
    "## Methodology"
   ]
  },
  {
   "cell_type": "markdown",
   "metadata": {},
   "source": [
    "The first step in answering my questions and goals was to import the data set. I used pandas to import the data, then separated the data set into its respective variables. I created a new variable, volume, what is a combination of the x, y, and z dimensions given in this data set. The formula to calculate the volume of a diamond is V=1/2(area*heght)."
   ]
  },
  {
   "cell_type": "code",
   "execution_count": 40,
   "metadata": {},
   "outputs": [],
   "source": [
    "# addions to python\n",
    "import pandas as pd\n",
    "%matplotlib inline\n",
    "import math\n",
    "import numpy as np\n",
    "import matplotlib.pyplot as plt\n",
    "import seaborn as sns\n",
    "import statsmodels.formula.api as smf"
   ]
  },
  {
   "cell_type": "code",
   "execution_count": 41,
   "metadata": {},
   "outputs": [],
   "source": [
    "\n",
    "# df = pd.read_csv('diamond dataset of choice') # imports data set of diamonds \n",
    "\n",
    "# # seperates data set into inidval variable \n",
    "# carat = df['carat']  # qant \n",
    "# cut = df['cut'] # qualitative\n",
    "# color = df['color'] # qualitative\n",
    "# clarity = df['clarity'] # qualitative\n",
    "# price = df['price'] # price in USD qant\n",
    "# volume = 0.5*(df['x']*df['y']*df['z']) # qant\n",
    "\n",
    "\n"
   ]
  },
  {
   "cell_type": "markdown",
   "metadata": {},
   "source": [
    "The next step in achieving my goals was to calculate averages and variances. I did this by using the .mean() and .var() function. I also printed the mean and variance using the print() function. "
   ]
  },
  {
   "cell_type": "code",
   "execution_count": 42,
   "metadata": {},
   "outputs": [],
   "source": [
    "\n",
    "# Pm = price.mean()\n",
    "# Pv = price.var()\n",
    "# Vm = volume.mean()\n",
    "# Vv = volume.var()\n",
    "# Cm = carat.mean()\n",
    "# Cv = carat.var()\n",
    "\n",
    "\n",
    "# print('price avg in USD and variance',Pm, 'and',Pv)\n",
    "# print('carat avg and variance',Cm, 'and',Cv)\n",
    "# print('volume avg in mm^3 and variance',Vm, 'and',Vv)\n"
   ]
  },
  {
   "cell_type": "markdown",
   "metadata": {},
   "source": [
    "Next, I made box and whisker plots to display the effect of cut, clarity, and color on price. A box and whisker plot was used because cut and color are reported qualitatively. I imported seaborn as sns to use their boxplot function. "
   ]
  },
  {
   "cell_type": "code",
   "execution_count": 43,
   "metadata": {},
   "outputs": [],
   "source": [
    "\n",
    "\n",
    "# plt.figure(figsize=(10,23))\n",
    "# plt.subplot(3,1,1)\n",
    "# sns.boxplot(color,price)\n",
    "# plt.ylabel('price in USD')\n",
    "# plt.title('color vs price')\n",
    "\n",
    "# plt.subplot(3,1,2)\n",
    "# sns.boxplot(cut,price)\n",
    "# plt.ylabel('price in USD')\n",
    "# plt.title('cut vs price')\n",
    "\n",
    "# plt.subplot(3,1,3)\n",
    "# sns.boxplot(clarity,price)\n",
    "# plt.ylabel('price in USD')\n",
    "# plt.title('clarity vs price')\n",
    "\n"
   ]
  },
  {
   "cell_type": "markdown",
   "metadata": {},
   "source": [
    "Next, I plotted to display the effect of volume and carat on price. I used plt.xlim and .ylim to adjust the x and y-axis. I also included a line of best fit on carat vs price and volume vs price using np.polyfit a function imported from NumPy."
   ]
  },
  {
   "cell_type": "code",
   "execution_count": 44,
   "metadata": {},
   "outputs": [],
   "source": [
    "# # plots of price on y axis vs quantitative variables  \n",
    "\n",
    "\n",
    "# plt.figure(figsize=(10,13))\n",
    "\n",
    "# para1 = np.polyfit(volume,price,3)  # prediciotns \n",
    "# print(para1)\n",
    "\n",
    "# my_polyunction1 = np.poly1d(para1)\n",
    "# exp_polyfuncitony1 = my_polyunction1(volume)\n",
    "\n",
    "# plt.subplot(2,1,1)\n",
    "# plt.scatter(volume,price) # voluem vs price\n",
    "# plt.scatter(volume,exp_polyfuncitony1) # predicted line \n",
    "# plt.xlim(-7,600)\n",
    "# plt.ylim(0,20000)\n",
    "# plt.grid()\n",
    "# plt.xlabel('volume in mm^3')\n",
    "# plt.ylabel('price in USD')\n",
    "# plt.title('volume vs price')\n",
    "\n",
    "# para = np.polyfit(carat,price,6)  # prediciotns \n",
    "# print(para)\n",
    "\n",
    "# my_polyunction = np.poly1d(para)\n",
    "# exp_polyfuncitony = my_polyunction(carat)\n",
    "\n",
    "\n",
    "# plt.subplot(2,1,2)\n",
    "# plt.scatter(carat,price) # carat vs price \n",
    "# plt.scatter(carat,exp_polyfuncitony) # predicted line \n",
    "# plt.ylim(0,20000)\n",
    "# plt.grid()\n",
    "# plt.xlabel('carat')\n",
    "# plt.ylabel('price in USD')\n",
    "# plt.title('carat vs price')"
   ]
  },
  {
   "cell_type": "markdown",
   "metadata": {},
   "source": [
    "In the cell below I preformed a linear regression of price regressed on volume, carat, color, clarity, and cut. The reason for this was to collect the coefficents from each variables to make a regression equations that will be used to predict the price of a diamond given volume, carat, color, clarity, and cut. I used the ols function with in the statsmodels.formula.api imported as smf. This function was very helpful in runing a regression to obtin wanted coefficeints. "
   ]
  },
  {
   "cell_type": "code",
   "execution_count": 45,
   "metadata": {},
   "outputs": [],
   "source": [
    "# # regression \n",
    "\n",
    "# # not a good regression suffers from strong multicollinearity or other numerical problems\n",
    "# # and Standard Errors assume that the covariance matrix of the errors is correctly specified.\n",
    "# # as shown in the warning below \n",
    "\n",
    "# model = smf.ols(formula='price ~ volume+carat+color+clarity+cut', data=df).fit() # regressing price on everyhting else\n",
    "\n",
    "# summary = model.summary()\n",
    "\n",
    "# summary"
   ]
  },
  {
   "cell_type": "markdown",
   "metadata": {},
   "source": [
    "Finally, I made a function called appraisal to predict the price of a diamond given, carat, volume, color, cut, and clarity. I use the linear regression that was previously discussed along with .params and loops. The function .params pull individual coefficients from the OLS regression. I used if and elif statements to adjust the beta's for each input. Then I created a regression equation PP to calculated price along with returning P which is a print statement of PP."
   ]
  },
  {
   "cell_type": "code",
   "execution_count": 46,
   "metadata": {},
   "outputs": [],
   "source": [
    "# # not accurte because of errors in regression, there are also much bette ways to do this\n",
    "\n",
    "\n",
    "# def appraisal(caratD,volumeD,colorD,cutD,clarityD):\n",
    "    \n",
    "#     model = smf.ols(formula='price ~ volume+carat+color+clarity+cut', data=df).fit()\n",
    "    \n",
    "#     beta0 = model.params[0] # interncept\n",
    "\n",
    "#     beta1 = model.params[19] # carat\n",
    "    \n",
    "#     beta2 = model.params[18] # volume\n",
    "    \n",
    "#     # color loops \n",
    "    \n",
    "#     if colorD == 'T.E':\n",
    "#         colorD = 1\n",
    "#         beta3 = model.params[1]\n",
    "#     elif colorD == 'T.F':\n",
    "#         colorD = 1\n",
    "#         beta3 = model.params[2]\n",
    "#     elif colorD == 'T.G':\n",
    "#         colorD = 1\n",
    "#         beta3 = model.params[3]\n",
    "#     elif colorD == 'T.H':\n",
    "#         colorD = 1\n",
    "#         beta3 = model.params[4]\n",
    "#     elif colorD == 'T.I':\n",
    "#         colorD = 1\n",
    "#         beta3 = model.params[5]\n",
    "#     elif colorD == 'T.J':\n",
    "#         colorD = 1\n",
    "#         beta3 = model.params[6]\n",
    "        \n",
    "#     # clarity loops \n",
    "    \n",
    "#     if clarityD == 'T.IF':\n",
    "#         clarityD = 1\n",
    "#         beta4 = model.params[7]\n",
    "#     elif clarityD == 'T.SI1':\n",
    "#         clarityD = 1\n",
    "#         beta4 = model.params[8]\n",
    "#     elif clarityD == 'T.SI2':\n",
    "#         clarityD = 1\n",
    "#         beta4 = model.params[9]\n",
    "#     elif clarityD =='T.VS1':\n",
    "#         clarityD = 1\n",
    "#         beta4 = model.params[10]\n",
    "#     elif clarityD =='T.VS2':\n",
    "#         clarityD = 1\n",
    "#         beta4 = model.params[11]\n",
    "#     elif clarityD =='T.VVS1':\n",
    "#         clarityD = 1\n",
    "#         beta4 = model.params[12]\n",
    "#     elif clarityD =='T.VVS2':\n",
    "#         clarityD = 1\n",
    "#         beta4 = model.params[13]\n",
    "        \n",
    "#     # cut loops \n",
    "#     if cutD == 'T.Good':\n",
    "#         cutD = 1 \n",
    "#         beta5 = model.params[14]\n",
    "#     elif cutD == 'T.Ideal':\n",
    "#         cutD = 1 \n",
    "#         beta5 = model.params[15]\n",
    "#     elif cutD == 'T.Premium':\n",
    "#         cutD = 1 \n",
    "#         beta5 = model.params[16]\n",
    "#     elif cutD == 'T.Very Good':\n",
    "#         cutD = 1 \n",
    "#         beta5 = model.params[17]\n",
    "    \n",
    "    \n",
    "#     pp = beta0 + (beta1*caratD) + (beta2*volumeD) + (beta3*colorD) + (beta4*clarityD) +(beta5*cutD)\n",
    "    \n",
    "#     P = print('the estimated cost of your diamond is',pp.round(2),'USD')\n",
    "    \n",
    "#     return P"
   ]
  },
  {
   "cell_type": "code",
   "execution_count": 47,
   "metadata": {},
   "outputs": [],
   "source": [
    "\n",
    "# appraisal(1.54,100,'T.I','T.Premium','T.SI2')"
   ]
  },
  {
   "cell_type": "markdown",
   "metadata": {},
   "source": [
    "## Results"
   ]
  },
  {
   "cell_type": "code",
   "execution_count": 48,
   "metadata": {},
   "outputs": [],
   "source": [
    "\n",
    "# plt.figure(figsize=(10,15))\n",
    "# plt.subplot(3,1,1)\n",
    "# sns.boxplot(color,price)\n",
    "# plt.ylabel('price in USD')\n",
    "# plt.title('color vs price')\n",
    "\n",
    "# plt.subplot(3,1,2)\n",
    "# sns.boxplot(cut,price)\n",
    "# plt.ylabel('price in USD')\n",
    "# plt.title('cut vs price')\n",
    "\n",
    "# plt.subplot(3,1,3)\n",
    "# sns.boxplot(clarity,price)\n",
    "# plt.ylabel('price in USD')\n",
    "# plt.title('clarity vs price')\n",
    "\n",
    "\n",
    "# plt.figure(figsize=(10,13))\n",
    "\n",
    "# para1 = np.polyfit(volume,price,3)  # prediciotns \n",
    "# print(para1)\n",
    "\n",
    "# my_polyunction1 = np.poly1d(para1)\n",
    "# exp_polyfuncitony1 = my_polyunction1(volume)\n",
    "\n",
    "# plt.subplot(2,1,1)\n",
    "# plt.scatter(volume,price) # voluem vs price\n",
    "# plt.scatter(volume,exp_polyfuncitony1) # predicted line \n",
    "# plt.xlim(-7,600)\n",
    "# plt.ylim(0,20000)\n",
    "# plt.grid()\n",
    "# plt.xlabel('volume in mm^3')\n",
    "# plt.ylabel('price in USD')\n",
    "# plt.title('volume vs price')\n",
    "\n",
    "# para = np.polyfit(carat,price,6)  # prediciotns \n",
    "# print(para)\n",
    "\n",
    "# my_polyunction = np.poly1d(para)\n",
    "# exp_polyfuncitony = my_polyunction(carat)\n",
    "\n",
    "\n",
    "# plt.subplot(2,1,2)\n",
    "# plt.scatter(carat,price) # carat vs price \n",
    "# plt.scatter(carat,exp_polyfuncitony) # predicted line \n",
    "# plt.ylim(0,20000)\n",
    "# plt.grid()\n",
    "# plt.xlabel('carat')\n",
    "# plt.ylabel('price in USD')\n",
    "# plt.title('carat vs price')"
   ]
  },
  {
   "cell_type": "markdown",
   "metadata": {},
   "source": [
    "The graphs above show the effect of clarity, cut, and color vs price. The box in whisker plot color vs price shows diamond color J has the highest average price and max price. In the box and whisker plot cut vs price premium cut diamonds have the highest average price and max price. In the box and whisker plot, clarity vs price a diamond clarity of SI2 has the highest average price but diamond clarity VS1 and VS2 have the highest max price. The graph of carat vs price shows that as carat increases there is an increase in price with a direct correlation. The graph of volume vs price shows that as volume increase there is an increase in price with a direct correlation. "
   ]
  },
  {
   "cell_type": "markdown",
   "metadata": {},
   "source": [
    "## Discussion and Conclusion"
   ]
  },
  {
   "cell_type": "markdown",
   "metadata": {},
   "source": [
    "From the results, I have learned that there is a direct correlation between the size of a diamond and its price. Size represents volume and carat. I used a 6th-degree polynomial fit for carat vs price which shows a direct correlation between price and carat with a slight dip around 2.5-3.8 carats suggesting other factors affect the price. The plot volume vs price shows a direct correlation with an increase in volume and price with only on outlier at 420 mm^3. Volume is not the best way to predict price because as you can see there is some diamond with a volume close to zero with a price range of 2500 - 18500 USD. The box and whisker plots show the mean price and max price vary suggesting it must be a combination of color, cut, clarity, carat, and volume to determine the price. The regression analysis of price regressed on volume, carat, color, clarity, and cut showed that carat of a diamond has the largest effect on price with a beta coefficient of 8729.2631. The volume of a diamond has the smallest effect on price with a beta of 1.9410. The linear regression suggests all colors have a negative effect on price but color E with a beta of -211.9140 has the smallest effect on price with respect to color. An ideal cut diamond is the best for the price with a beta of 992.8232. The clarity of a diamond had the second-largest effect with clarity IF having a beta of 5416.9794. The beta means that if a diamond has that characters such as clarity IF it will have a price increase of 5416.9794. For example, a diamond with a carat of 2 would be 2*the beta coefficient for a carat which is  8729.2631. "
   ]
  },
  {
   "cell_type": "markdown",
   "metadata": {},
   "source": [
    "### References"
   ]
  },
  {
   "cell_type": "markdown",
   "metadata": {},
   "source": [
    "Shivamagrawal. (2017, May 25). Diamonds. Retrieved from https://www.kaggle.com/shivam2503/diamonds\n",
    "\n"
   ]
  }
 ],
 "metadata": {
  "kernelspec": {
   "display_name": "Python 3",
   "language": "python",
   "name": "python3"
  },
  "language_info": {
   "codemirror_mode": {
    "name": "ipython",
    "version": 3
   },
   "file_extension": ".py",
   "mimetype": "text/x-python",
   "name": "python",
   "nbconvert_exporter": "python",
   "pygments_lexer": "ipython3",
   "version": "3.7.4"
  }
 },
 "nbformat": 4,
 "nbformat_minor": 4
}
